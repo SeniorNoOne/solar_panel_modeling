{
 "cells": [
  {
   "cell_type": "code",
   "execution_count": null,
   "id": "47fb2fb9",
   "metadata": {},
   "outputs": [],
   "source": [
    "import numpy as np\n",
    "import matplotlib.pyplot as plt\n",
    "from os import getcwd\n",
    "from scipy.constants import e, k\n",
    "\n",
    "inp_dir = getcwd() + '/input_files/'\n",
    "\n",
    "temp = 25\n",
    "T = temp + 273\n",
    "v_t = k * T / e"
   ]
  },
  {
   "cell_type": "code",
   "execution_count": null,
   "id": "6e376631",
   "metadata": {},
   "outputs": [],
   "source": [
    "data = read_file(inp_dir + 'diode_iv_curve.txt')\n",
    "v = np.array([val for i, val in enumerate(data) if not i % 2])\n",
    "i = np.array([val for i, val in enumerate(data) if i % 2])\n",
    "\n",
    "write_file(inp_dir + 'diode_i_curve.txt', i)\n",
    "write_file(inp_dir + 'diode_u_curve.txt', v)"
   ]
  },
  {
   "cell_type": "code",
   "execution_count": null,
   "id": "e3759291",
   "metadata": {},
   "outputs": [],
   "source": [
    "zero_cur = init_cur = i[0] / np.exp(v[0] / v_t - 1)\n",
    "target_error = 0.1\n",
    "errors = []\n",
    "\n",
    "\n",
    "while True:\n",
    "    eta, error = minimize(init_cur)\n",
    "    init_cur = i[0] / (np.exp(v[0] / v_t / eta) - 1)\n",
    "    metric = abs(init_cur - zero_cur) / zero_cur * 100\n",
    "    # print(init_cur, zero_cur, metric)\n",
    "    \n",
    "    \n",
    "    if metric < target_error:\n",
    "        break\n",
    "        \n",
    "print(init_cur, eta)"
   ]
  },
  {
   "cell_type": "code",
   "execution_count": null,
   "id": "7053696d",
   "metadata": {},
   "outputs": [],
   "source": [
    "steps = 100\n",
    "min_error = 10 ** 10\n",
    "x_fit_vals = v[-12:]\n",
    "y_fit_vals = i[-12:]\n",
    "\n",
    "init_cur = i[0] / (np.exp(v[0] / v_t) - 1)\n",
    "fit = np.polyfit(x_fit_vals, y_fit_vals, 1)\n",
    "init_rs = 1 / fit[0]\n",
    "\n",
    "\n",
    "for idx, eta in enumerate(np.linspace(1, 2, steps)):\n",
    "    print_progress_bar(idx + 1, steps)\n",
    "    for cur in np.linspace(0.75 * init_cur, 1.25 * init_cur, steps):\n",
    "        for rs in np.linspace(0.75 * init_rs, 1.25 * init_rs, steps):\n",
    "            approx = cur * (np.exp((v - rs * i) / v_t / eta) - 1)\n",
    "            error = rmse(i, approx)\n",
    "            errors.append(error)\n",
    "    \n",
    "            if error < min_error:\n",
    "                min_error = error\n",
    "                min_eta, min_cur, min_rs = eta, cur, rs\n",
    "                \n",
    "print(min_eta, min_cur, min_rs)"
   ]
  },
  {
   "cell_type": "code",
   "execution_count": null,
   "id": "8a53adea",
   "metadata": {},
   "outputs": [],
   "source": [
    "eps = 10e-2\n",
    "eta = 0.1\n",
    "\n",
    "a1 = min_cur * (np.exp((v - min_rs * i) / v_t / min_eta) - 1)\n",
    "\n",
    "ii = [0]\n",
    "vv = np.linspace(0, v[-1], 100)\n",
    "\n",
    "for idx, v_val in enumerate(vv[1:]):    \n",
    "    old_c = ii[-1]\n",
    "    new_c = min_cur * (np.exp((v_val - min_rs * old_c) / v_t / min_eta) - 1)\n",
    "    \n",
    "    while abs(new_c - old_c) > eps:\n",
    "        old_c = new_c\n",
    "        new_c = min_cur * (np.exp((v_val - min_rs * old_c) / v_t / min_eta) - 1)\n",
    "        new_c = old_c + eta * (new_c - old_c)\n",
    "    \n",
    "    ii.append(new_c)\n",
    "\n",
    "\n",
    "plt.plot(-vv, ii)\n",
    "plt.plot(v, i)\n",
    "plt.xlabel('Voltage (V)')\n",
    "plt.ylabel('Current (A)')\n",
    "plt.title('I-V Curve of Diode')\n",
    "plt.grid(True)\n",
    "plt.show()"
   ]
  },
  {
   "cell_type": "code",
   "execution_count": null,
   "id": "c8e93e82",
   "metadata": {},
   "outputs": [],
   "source": [
    "solar_cell_num = 54\n",
    "G = 800\n",
    "\n",
    "r_file = open(\"C:\\\\Users\\\\Martyniuk Vadym\\\\Desktop\\\\KC200GT_new.txt\", \"r\")\n",
    "e_voltage, e_current = get_data(r_file)\n",
    "e_voltage = np.array(e_voltage) / solar_cell_num\n",
    "r_file.close()\n",
    "\n",
    "My_one_diode_fa_KC200GT = SolarCell(cell_num=54/ solar_cell_num, Voc=32.9 / solar_cell_num, Isc=8.21,\n",
    "                       #Pmpp=200, Impp=7.61, Vmpp=26.3,\n",
    "                       #Ku=-0.123, Ki=3.18 / 1000, a1=1.0, a2=10**10,\n",
    "                       thermal_coefficient_type='absolute', G=800,\n",
    "                       experimental_V=e_voltage,\n",
    "                       experimental_I=e_current,\n",
    "                       is_experimental_data_provided=True,\n",
    "                       mode='overall')\n",
    "\n",
    "My_one_diode_fa_KC200GT.end_fit_points_number"
   ]
  },
  {
   "cell_type": "code",
   "execution_count": null,
   "id": "95ae674b",
   "metadata": {},
   "outputs": [],
   "source": [
    "My_one_diode_fa_KC200GT.run()"
   ]
  },
  {
   "cell_type": "code",
   "execution_count": null,
   "id": "5399b966",
   "metadata": {},
   "outputs": [],
   "source": [
    "v_rev = -vv\n",
    "i_rev = My_one_diode_fa_KC200GT.fixed_point_method_rv(My_one_diode_fa_KC200GT.Rs, \n",
    "                                                      My_one_diode_fa_KC200GT.Rp, v_rev)[1:]\n",
    "i_rev_diode = np.sum([i_rev, ii], axis=0)\n",
    "\n",
    "\n",
    "i_for = My_one_diode_fa_KC200GT.fixed_point_method_rv(My_one_diode_fa_KC200GT.Rs, \n",
    "                                                      My_one_diode_fa_KC200GT.Rp, My_one_diode_fa_KC200GT.V_mesh)[1:]"
   ]
  },
  {
   "cell_type": "code",
   "execution_count": null,
   "id": "6acaf9b0",
   "metadata": {},
   "outputs": [],
   "source": [
    "aa = np.array(My_one_diode_fa_KC200GT.V_mesh) * 300 / 1000"
   ]
  },
  {
   "cell_type": "code",
   "execution_count": null,
   "id": "2347b020",
   "metadata": {},
   "outputs": [],
   "source": [
    "plt.plot(My_one_diode_fa_KC200GT.e_V, My_one_diode_fa_KC200GT.e_I)\n",
    "plt.plot(aa, i_for)\n",
    "plt.plot(v_rev, i_rev)\n",
    "plt.plot(v_rev, i_rev_diode)\n",
    "plt.grid()"
   ]
  },
  {
   "cell_type": "code",
   "execution_count": null,
   "id": "44d974a6",
   "metadata": {},
   "outputs": [],
   "source": [
    "KC200GT_1000 = SolarCell(cell_num=54/ solar_cell_num, Voc=32.9 / solar_cell_num, Isc=8.21,\n",
    "                         thermal_coefficient_type='absolute', G=1000,\n",
    "                         experimental_V=e_voltage,\n",
    "                         experimental_I=e_current,\n",
    "                         is_experimental_data_provided=True,\n",
    "                         mode='overall')\n",
    "\n",
    "KC200GT_1000.run()"
   ]
  },
  {
   "cell_type": "code",
   "execution_count": null,
   "id": "da954ccf",
   "metadata": {},
   "outputs": [],
   "source": [
    "KC200GT_800 = SolarCell(cell_num=54/ solar_cell_num, Voc=32.9 / solar_cell_num, Isc=8.21,\n",
    "                         thermal_coefficient_type='absolute', G=600,\n",
    "                         experimental_V=e_voltage,\n",
    "                         experimental_I=e_current,\n",
    "                         is_experimental_data_provided=True,\n",
    "                         mode='overall')\n",
    "\n",
    "KC200GT_800.run()"
   ]
  },
  {
   "cell_type": "code",
   "execution_count": null,
   "id": "c4022538",
   "metadata": {},
   "outputs": [],
   "source": [
    "plt.plot(My_one_diode_fa_KC200GT.V_mesh, My_one_diode_fa_KC200GT.current)\n",
    "plt.plot(voltage800, current800[1:])"
   ]
  }
 ],
 "metadata": {
  "kernelspec": {
   "display_name": "Python 3 (ipykernel)",
   "language": "python",
   "name": "python3"
  },
  "language_info": {
   "codemirror_mode": {
    "name": "ipython",
    "version": 3
   },
   "file_extension": ".py",
   "mimetype": "text/x-python",
   "name": "python",
   "nbconvert_exporter": "python",
   "pygments_lexer": "ipython3",
   "version": "3.10.13"
  }
 },
 "nbformat": 4,
 "nbformat_minor": 5
}
